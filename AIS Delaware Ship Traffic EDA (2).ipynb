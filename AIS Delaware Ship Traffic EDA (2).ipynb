{
 "cells": [
  {
   "cell_type": "code",
   "execution_count": 3,
   "metadata": {},
   "outputs": [
    {
     "data": {
      "text/html": [
       "'F:/AQM/Shane Cone/CMV_QGIS Workgroup/CMV Data Analysis - Port of Wilm'"
      ],
      "text/latex": [
       "'F:/AQM/Shane Cone/CMV\\_QGIS Workgroup/CMV Data Analysis - Port of Wilm'"
      ],
      "text/markdown": [
       "'F:/AQM/Shane Cone/CMV_QGIS Workgroup/CMV Data Analysis - Port of Wilm'"
      ],
      "text/plain": [
       "[1] \"F:/AQM/Shane Cone/CMV_QGIS Workgroup/CMV Data Analysis - Port of Wilm\""
      ]
     },
     "metadata": {},
     "output_type": "display_data"
    }
   ],
   "source": [
    "setwd(\"F:\\\\AQM\\\\Shane Cone\\\\CMV_QGIS Workgroup\\\\CMV Data Analysis - Port of Wilm\")\n",
    "getwd()"
   ]
  },
  {
   "cell_type": "code",
   "execution_count": 134,
   "metadata": {},
   "outputs": [
    {
     "name": "stderr",
     "output_type": "stream",
     "text": [
      "Installing package into 'C:/Users/Shane.Cone/Documents/R/win-library/3.6'\n",
      "(as 'lib' is unspecified)\n",
      "Warning message:\n",
      "\"package 'lubridate' is in use and will not be installed\""
     ]
    }
   ],
   "source": [
    "#install.packages(\"dplyr\")\n",
    "#install.packages(\"lubridate\")\n",
    "#install.packages(\"magrittr\")\n",
    "#install.packages(\"forcats\")\n",
    "install.packages(\"lubridate\")\n",
    "library(dplyr)\n",
    "library(lubridate)\n",
    "library(tidyverse)\n"
   ]
  },
  {
   "cell_type": "markdown",
   "metadata": {},
   "source": [
    "Read the file for January 2017"
   ]
  },
  {
   "cell_type": "code",
   "execution_count": 16,
   "metadata": {},
   "outputs": [],
   "source": [
    "a <- read.csv(\"AIS_2017_01_Zone18.csv\")"
   ]
  },
  {
   "cell_type": "markdown",
   "metadata": {},
   "source": [
    "View details of data file. **An important find here is under Draft!** There are 24 million observations (records), but ~14 million draft records are NA!"
   ]
  },
  {
   "cell_type": "code",
   "execution_count": 132,
   "metadata": {},
   "outputs": [
    {
     "name": "stdout",
     "output_type": "stream",
     "text": [
      "'data.frame':\t24226749 obs. of  16 variables:\n",
      " $ MMSI        : int  367303000 367170890 338165445 316029207 338104509 366976720 367141210 367492140 367051230 367308430 ...\n",
      " $ BaseDateTime: Factor w/ 2674192 levels \"2017-01-01T00:00:00\",..: 6 11 21 62 65 69 72 74 77 129 ...\n",
      " $ LAT         : num  40 37.4 34.2 45.5 41.3 ...\n",
      " $ LON         : num  -75.1 -75.4 -77.8 -73.5 -72.9 ...\n",
      " $ SOG         : num  3.2 9.2 0 0 0 0 0.2 0.2 0 0 ...\n",
      " $ COG         : num  139.5 30.4 -133.6 -95.6 109.2 ...\n",
      " $ Heading     : num  127 511 511 9 354 6 511 511 511 511 ...\n",
      " $ VesselName  : Factor w/ 3334 levels \"\",\"11M0432\",\"11MRB0435\",..: 1 1 1 2299 1 1 1 1719 1 1 ...\n",
      " $ IMO         : Factor w/ 1993 levels \"\",\"IMO0000281\",..: 1 1 1 427 1 1 1 1 1 1 ...\n",
      " $ CallSign    : Factor w/ 2958 levels \"\",\"1139023\",\"2ABB2\",..: 1 1 1 1 1 1 1 2121 1 1 ...\n",
      " $ VesselType  : int  NA NA NA 1025 NA NA NA 1005 NA NA ...\n",
      " $ Status      : Factor w/ 17 levels \"\",\"aground\",\"AIS-SART (active); MOB-AIS; EPIRB-AIS\",..: 7 1 1 17 17 7 17 14 17 17 ...\n",
      " $ Length      : num  NA NA NA 29.5 NA ...\n",
      " $ Width       : num  NA NA NA 11.2 NA NA NA 11.6 NA NA ...\n",
      " $ Draft       : num  NA NA NA NA NA NA NA NA NA NA ...\n",
      " $ Cargo       : int  NA NA NA 39 NA NA NA NA NA NA ...\n"
     ]
    },
    {
     "data": {
      "text/plain": [
       "      MMSI                        BaseDateTime           LAT        \n",
       " Min.   :0.000e+00   2017-01-16T23:59:59:      78   Min.   : 5.962  \n",
       " 1st Qu.:3.669e+08   2017-01-07T00:00:00:      74   1st Qu.:37.023  \n",
       " Median :3.671e+08   2017-01-25T14:31:53:      74   Median :39.717  \n",
       " Mean   :3.666e+08   2017-01-01T00:00:01:      72   Mean   :39.015  \n",
       " 3rd Qu.:3.675e+08   2017-01-05T00:00:00:      69   3rd Qu.:40.660  \n",
       " Max.   :1.019e+09   2017-01-05T00:00:01:      65   Max.   :75.506  \n",
       "                     (Other)            :24226317                   \n",
       "      LON              SOG               COG             Heading     \n",
       " Min.   :-78.00   Min.   :-51.200   Min.   :-204.80   Min.   :  0.0  \n",
       " 1st Qu.:-76.30   1st Qu.:  0.000   1st Qu.:-136.60   1st Qu.:206.0  \n",
       " Median :-75.11   Median :  0.000   Median : -49.60   Median :511.0  \n",
       " Mean   :-75.09   Mean   :  2.634   Mean   : -23.72   Mean   :363.1  \n",
       " 3rd Qu.:-74.04   3rd Qu.:  4.000   3rd Qu.:  81.90   3rd Qu.:511.0  \n",
       " Max.   :-72.00   Max.   : 51.100   Max.   : 204.70   Max.   :511.0  \n",
       "                                                                     \n",
       "          VesselName               IMO              CallSign       \n",
       "               :  948444             : 9336777          : 2369793  \n",
       " BROOKLYN      :   90707   IMO5068875:   39963   WDH8056:   45002  \n",
       " RED HOOK      :   78821   IMO8668248:   39962   WDD9658:   41916  \n",
       " PATAPSCO      :   67588   IMO7423079:   39610   VDLK   :   39963  \n",
       " ELIZABETH ANNE:   56830   IMO8654364:   39495   VA3418 :   39610  \n",
       " PATUXENT      :   56241   IMO9804681:   39456   WDH5573:   39495  \n",
       " (Other)       :22928118   (Other)   :14691486   (Other):21650970  \n",
       "   VesselType                             Status             Length       \n",
       " Min.   :   0      under way using engine    :13252759   Min.   :   0.0   \n",
       " 1st Qu.:1004                                : 4065642   1st Qu.:  21.7   \n",
       " Median :1019      undefined                 : 2526371   Median :  29.2   \n",
       " Mean   : 960      moored                    : 2419952   Mean   :  61.8   \n",
       " 3rd Qu.:1025      at anchor                 :  921265   3rd Qu.:  46.0   \n",
       " Max.   :1025      restricted maneuverability:  293475   Max.   :5636.0   \n",
       " NA's   :1492178   (Other)                   :  747285   NA's   :2316017  \n",
       "     Width             Draft              Cargo         \n",
       " Min.   : 0        Min.   :-12        Min.   : 0        \n",
       " 1st Qu.: 7        1st Qu.:  4        1st Qu.:32        \n",
       " Median : 9        Median :  4        Median :52        \n",
       " Mean   :13        Mean   :  6        Mean   :51        \n",
       " 3rd Qu.:13        3rd Qu.: 10        3rd Qu.:69        \n",
       " Max.   :77        Max.   : 18        Max.   :99        \n",
       " NA's   :4801119   NA's   :14026467   NA's   :12974500  "
      ]
     },
     "metadata": {},
     "output_type": "display_data"
    },
    {
     "data": {
      "text/html": [
       "0"
      ],
      "text/latex": [
       "0"
      ],
      "text/markdown": [
       "0"
      ],
      "text/plain": [
       "[1] 0"
      ]
     },
     "metadata": {},
     "output_type": "display_data"
    },
    {
     "data": {
      "text/html": [
       "0"
      ],
      "text/latex": [
       "0"
      ],
      "text/markdown": [
       "0"
      ],
      "text/plain": [
       "[1] 0"
      ]
     },
     "metadata": {},
     "output_type": "display_data"
    }
   ],
   "source": [
    "str(a)\n",
    "summary(a)\n",
    "sum(is.na(a$MMSI))\n",
    "sum(is.na(a$IMO))"
   ]
  },
  {
   "cell_type": "markdown",
   "metadata": {},
   "source": [
    "The following code looks at MMSI vs IMO. There are 3727 unique MMSI codes, and 35 of them are \"0\" (no NULL in field, according to above results, but there are 0's!).\n",
    "\n",
    "For IMO#, there are 1993 unique IMO numbers, and no \"NULLS\" and no 0's. However, it is a factor, and includes a blank level, with, according to the table, 9,336,777 records as blank! \n",
    "\n",
    "Therefore, MMSI is the best/most complete identifier of ships, by far."
   ]
  },
  {
   "cell_type": "code",
   "execution_count": 133,
   "metadata": {},
   "outputs": [
    {
     "data": {
      "text/html": [
       "3727"
      ],
      "text/latex": [
       "3727"
      ],
      "text/markdown": [
       "3727"
      ],
      "text/plain": [
       "[1] 3727"
      ]
     },
     "metadata": {},
     "output_type": "display_data"
    },
    {
     "data": {
      "text/html": [
       "35"
      ],
      "text/latex": [
       "35"
      ],
      "text/markdown": [
       "35"
      ],
      "text/plain": [
       "[1] 35"
      ]
     },
     "metadata": {},
     "output_type": "display_data"
    },
    {
     "data": {
      "text/html": [
       "1993"
      ],
      "text/latex": [
       "1993"
      ],
      "text/markdown": [
       "1993"
      ],
      "text/plain": [
       "[1] 1993"
      ]
     },
     "metadata": {},
     "output_type": "display_data"
    },
    {
     "data": {
      "text/html": [
       "0"
      ],
      "text/latex": [
       "0"
      ],
      "text/markdown": [
       "0"
      ],
      "text/plain": [
       "[1] 0"
      ]
     },
     "metadata": {},
     "output_type": "display_data"
    }
   ],
   "source": [
    "length(unique(a$MMSI))\n",
    "sum(a$MMSI == 0)\n",
    "length(unique(a$IMO))\n",
    "sum(a$IMO == 0)\n",
    "## the below lines of codes print all of the levels for ...$IMO field. I printed them to take a peak, but it't not very helfpul\n",
    "##table(a$IMO)"
   ]
  },
  {
   "cell_type": "markdown",
   "metadata": {},
   "source": [
    "# Data prep and subsetting based on location"
   ]
  },
  {
   "cell_type": "markdown",
   "metadata": {},
   "source": [
    "Define the data preperation function"
   ]
  },
  {
   "cell_type": "code",
   "execution_count": 18,
   "metadata": {},
   "outputs": [],
   "source": [
    "data.prep <- function(data, lower, upper, left, right, NULL.A){\n",
    "b <- subset(a, a$LAT >= lower & LAT <= upper & LON <= right & LON >= left)\n",
    "print(\"Taking the absolute value of SOG...\")\n",
    "b$SOG <- abs(b$SOG)\n",
    "print(\"Formatting date-time records...\")\n",
    "b$BaseDateTime <- ymd_hms(b$BaseDateTime)\n",
    "b$Day <- day(b$BaseDateTime)\n",
    "b$wDay <- wday(b$BaseDateTime)\n",
    "region <<- b\n",
    "print(\"data prep complete\")\n",
    "}\n"
   ]
  },
  {
   "cell_type": "markdown",
   "metadata": {},
   "source": [
    "Conduct data prep on full dataset"
   ]
  },
  {
   "cell_type": "code",
   "execution_count": 19,
   "metadata": {},
   "outputs": [
    {
     "name": "stdout",
     "output_type": "stream",
     "text": [
      "[1] \"Taking the absolute value of SOG...\"\n",
      "[1] \"Formatting date-time records...\"\n",
      "[1] \"data prep complete\"\n"
     ]
    }
   ],
   "source": [
    "data.prep(data = a, lower = 38.71333333, upper = 39.80638889, left = -75.77944444, right = -75.035110\n",
    ", NULL.A = FALSE)\n",
    "Delaware_Riv <- region\n",
    "region <- NULL\n",
    "Delaware_Riv$region <- \"Delaware River\"\n",
    "write.csv(Delaware_Riv, \"AIS_limited_Delaware_Riv.csv\")\n",
    "Delaware_Riv_Ais_full <- read.csv(\"AIS_limited_Delaware_Riv.csv\"\n",
    ")"
   ]
  },
  {
   "cell_type": "markdown",
   "metadata": {},
   "source": [
    "## Delaware Specific data"
   ]
  },
  {
   "cell_type": "markdown",
   "metadata": {},
   "source": [
    "View geo-relevent data that you selected in the data prep step. Once again, as is seen in the summary section for draft, a significant number (about half) of the records for Draft are Null."
   ]
  },
  {
   "cell_type": "code",
   "execution_count": 49,
   "metadata": {},
   "outputs": [
    {
     "data": {
      "text/html": [
       "<table>\n",
       "<caption>A data.frame: 6 × 20</caption>\n",
       "<thead>\n",
       "\t<tr><th scope=col>X</th><th scope=col>MMSI</th><th scope=col>BaseDateTime</th><th scope=col>LAT</th><th scope=col>LON</th><th scope=col>SOG</th><th scope=col>COG</th><th scope=col>Heading</th><th scope=col>VesselName</th><th scope=col>IMO</th><th scope=col>CallSign</th><th scope=col>VesselType</th><th scope=col>Status</th><th scope=col>Length</th><th scope=col>Width</th><th scope=col>Draft</th><th scope=col>Cargo</th><th scope=col>Day</th><th scope=col>wDay</th><th scope=col>region</th></tr>\n",
       "\t<tr><th scope=col>&lt;int&gt;</th><th scope=col>&lt;fct&gt;</th><th scope=col>&lt;fct&gt;</th><th scope=col>&lt;dbl&gt;</th><th scope=col>&lt;dbl&gt;</th><th scope=col>&lt;dbl&gt;</th><th scope=col>&lt;dbl&gt;</th><th scope=col>&lt;int&gt;</th><th scope=col>&lt;fct&gt;</th><th scope=col>&lt;fct&gt;</th><th scope=col>&lt;fct&gt;</th><th scope=col>&lt;fct&gt;</th><th scope=col>&lt;fct&gt;</th><th scope=col>&lt;dbl&gt;</th><th scope=col>&lt;dbl&gt;</th><th scope=col>&lt;dbl&gt;</th><th scope=col>&lt;int&gt;</th><th scope=col>&lt;int&gt;</th><th scope=col>&lt;int&gt;</th><th scope=col>&lt;fct&gt;</th></tr>\n",
       "</thead>\n",
       "<tbody>\n",
       "\t<tr><td> 46</td><td>367090620</td><td>2017-01-01 00:00:02</td><td>38.94021</td><td>-75.31777</td><td> 0.0</td><td>-151.4</td><td>511</td><td>BREAKWATER   </td><td>          </td><td>WYH7020</td><td>1012</td><td>under way using engine</td><td> 14.72</td><td> 4.50</td><td>NA</td><td>50</td><td>1</td><td>1</td><td>Port_of_Wilm</td></tr>\n",
       "\t<tr><td> 50</td><td>356136000</td><td>2017-01-01 00:01:09</td><td>39.00913</td><td>-75.14641</td><td>14.8</td><td> 156.2</td><td>158</td><td>MORNING CAROL</td><td>IMO9336086</td><td>3EQI7  </td><td>1004</td><td>under way using engine</td><td>199.97</td><td>32.26</td><td>10</td><td>70</td><td>1</td><td>1</td><td>Port_of_Wilm</td></tr>\n",
       "\t<tr><td> 69</td><td>367012640</td><td>2017-01-01 00:00:05</td><td>39.71684</td><td>-75.51660</td><td> 0.0</td><td> -90.0</td><td>511</td><td>LINDSEY      </td><td>IMO8973021</td><td>WDC3699</td><td>1025</td><td>under way using engine</td><td> 21.30</td><td> 9.10</td><td>NA</td><td>52</td><td>1</td><td>1</td><td>Port_of_Wilm</td></tr>\n",
       "\t<tr><td>120</td><td>367012660</td><td>2017-01-01 00:01:12</td><td>39.71675</td><td>-75.51704</td><td> 0.0</td><td> -95.4</td><td>511</td><td>SALLY        </td><td>IMO8973019</td><td>WDC3701</td><td>1025</td><td>under way using engine</td><td> 21.30</td><td> 9.10</td><td>NA</td><td>52</td><td>1</td><td>1</td><td>Port_of_Wilm</td></tr>\n",
       "\t<tr><td>123</td><td>367012660</td><td>2017-01-01 00:02:23</td><td>39.71691</td><td>-75.51677</td><td> 0.0</td><td> -98.2</td><td>511</td><td>SALLY        </td><td>IMO8973019</td><td>WDC3701</td><td>1025</td><td>under way using engine</td><td> 21.30</td><td> 9.10</td><td>NA</td><td>52</td><td>1</td><td>1</td><td>Port_of_Wilm</td></tr>\n",
       "\t<tr><td>134</td><td>367012660</td><td>2017-01-01 00:00:03</td><td>39.71690</td><td>-75.51682</td><td> 0.0</td><td> -96.4</td><td>511</td><td>SALLY        </td><td>IMO8973019</td><td>WDC3701</td><td>1025</td><td>under way using engine</td><td> 21.30</td><td> 9.10</td><td>NA</td><td>52</td><td>1</td><td>1</td><td>Port_of_Wilm</td></tr>\n",
       "</tbody>\n",
       "</table>\n"
      ],
      "text/latex": [
       "A data.frame: 6 × 20\n",
       "\\begin{tabular}{r|llllllllllllllllllll}\n",
       " X & MMSI & BaseDateTime & LAT & LON & SOG & COG & Heading & VesselName & IMO & CallSign & VesselType & Status & Length & Width & Draft & Cargo & Day & wDay & region\\\\\n",
       " <int> & <fct> & <fct> & <dbl> & <dbl> & <dbl> & <dbl> & <int> & <fct> & <fct> & <fct> & <fct> & <fct> & <dbl> & <dbl> & <dbl> & <int> & <int> & <int> & <fct>\\\\\n",
       "\\hline\n",
       "\t  46 & 367090620 & 2017-01-01 00:00:02 & 38.94021 & -75.31777 &  0.0 & -151.4 & 511 & BREAKWATER    &            & WYH7020 & 1012 & under way using engine &  14.72 &  4.50 & NA & 50 & 1 & 1 & Port\\_of\\_Wilm\\\\\n",
       "\t  50 & 356136000 & 2017-01-01 00:01:09 & 39.00913 & -75.14641 & 14.8 &  156.2 & 158 & MORNING CAROL & IMO9336086 & 3EQI7   & 1004 & under way using engine & 199.97 & 32.26 & 10 & 70 & 1 & 1 & Port\\_of\\_Wilm\\\\\n",
       "\t  69 & 367012640 & 2017-01-01 00:00:05 & 39.71684 & -75.51660 &  0.0 &  -90.0 & 511 & LINDSEY       & IMO8973021 & WDC3699 & 1025 & under way using engine &  21.30 &  9.10 & NA & 52 & 1 & 1 & Port\\_of\\_Wilm\\\\\n",
       "\t 120 & 367012660 & 2017-01-01 00:01:12 & 39.71675 & -75.51704 &  0.0 &  -95.4 & 511 & SALLY         & IMO8973019 & WDC3701 & 1025 & under way using engine &  21.30 &  9.10 & NA & 52 & 1 & 1 & Port\\_of\\_Wilm\\\\\n",
       "\t 123 & 367012660 & 2017-01-01 00:02:23 & 39.71691 & -75.51677 &  0.0 &  -98.2 & 511 & SALLY         & IMO8973019 & WDC3701 & 1025 & under way using engine &  21.30 &  9.10 & NA & 52 & 1 & 1 & Port\\_of\\_Wilm\\\\\n",
       "\t 134 & 367012660 & 2017-01-01 00:00:03 & 39.71690 & -75.51682 &  0.0 &  -96.4 & 511 & SALLY         & IMO8973019 & WDC3701 & 1025 & under way using engine &  21.30 &  9.10 & NA & 52 & 1 & 1 & Port\\_of\\_Wilm\\\\\n",
       "\\end{tabular}\n"
      ],
      "text/markdown": [
       "\n",
       "A data.frame: 6 × 20\n",
       "\n",
       "| X &lt;int&gt; | MMSI &lt;fct&gt; | BaseDateTime &lt;fct&gt; | LAT &lt;dbl&gt; | LON &lt;dbl&gt; | SOG &lt;dbl&gt; | COG &lt;dbl&gt; | Heading &lt;int&gt; | VesselName &lt;fct&gt; | IMO &lt;fct&gt; | CallSign &lt;fct&gt; | VesselType &lt;fct&gt; | Status &lt;fct&gt; | Length &lt;dbl&gt; | Width &lt;dbl&gt; | Draft &lt;dbl&gt; | Cargo &lt;int&gt; | Day &lt;int&gt; | wDay &lt;int&gt; | region &lt;fct&gt; |\n",
       "|---|---|---|---|---|---|---|---|---|---|---|---|---|---|---|---|---|---|---|---|\n",
       "|  46 | 367090620 | 2017-01-01 00:00:02 | 38.94021 | -75.31777 |  0.0 | -151.4 | 511 | BREAKWATER    | <!----> | WYH7020 | 1012 | under way using engine |  14.72 |  4.50 | NA | 50 | 1 | 1 | Port_of_Wilm |\n",
       "|  50 | 356136000 | 2017-01-01 00:01:09 | 39.00913 | -75.14641 | 14.8 |  156.2 | 158 | MORNING CAROL | IMO9336086 | 3EQI7   | 1004 | under way using engine | 199.97 | 32.26 | 10 | 70 | 1 | 1 | Port_of_Wilm |\n",
       "|  69 | 367012640 | 2017-01-01 00:00:05 | 39.71684 | -75.51660 |  0.0 |  -90.0 | 511 | LINDSEY       | IMO8973021 | WDC3699 | 1025 | under way using engine |  21.30 |  9.10 | NA | 52 | 1 | 1 | Port_of_Wilm |\n",
       "| 120 | 367012660 | 2017-01-01 00:01:12 | 39.71675 | -75.51704 |  0.0 |  -95.4 | 511 | SALLY         | IMO8973019 | WDC3701 | 1025 | under way using engine |  21.30 |  9.10 | NA | 52 | 1 | 1 | Port_of_Wilm |\n",
       "| 123 | 367012660 | 2017-01-01 00:02:23 | 39.71691 | -75.51677 |  0.0 |  -98.2 | 511 | SALLY         | IMO8973019 | WDC3701 | 1025 | under way using engine |  21.30 |  9.10 | NA | 52 | 1 | 1 | Port_of_Wilm |\n",
       "| 134 | 367012660 | 2017-01-01 00:00:03 | 39.71690 | -75.51682 |  0.0 |  -96.4 | 511 | SALLY         | IMO8973019 | WDC3701 | 1025 | under way using engine |  21.30 |  9.10 | NA | 52 | 1 | 1 | Port_of_Wilm |\n",
       "\n"
      ],
      "text/plain": [
       "  X   MMSI      BaseDateTime        LAT      LON       SOG  COG    Heading\n",
       "1  46 367090620 2017-01-01 00:00:02 38.94021 -75.31777  0.0 -151.4 511    \n",
       "2  50 356136000 2017-01-01 00:01:09 39.00913 -75.14641 14.8  156.2 158    \n",
       "3  69 367012640 2017-01-01 00:00:05 39.71684 -75.51660  0.0  -90.0 511    \n",
       "4 120 367012660 2017-01-01 00:01:12 39.71675 -75.51704  0.0  -95.4 511    \n",
       "5 123 367012660 2017-01-01 00:02:23 39.71691 -75.51677  0.0  -98.2 511    \n",
       "6 134 367012660 2017-01-01 00:00:03 39.71690 -75.51682  0.0  -96.4 511    \n",
       "  VesselName    IMO        CallSign VesselType Status                 Length\n",
       "1 BREAKWATER               WYH7020  1012       under way using engine  14.72\n",
       "2 MORNING CAROL IMO9336086 3EQI7    1004       under way using engine 199.97\n",
       "3 LINDSEY       IMO8973021 WDC3699  1025       under way using engine  21.30\n",
       "4 SALLY         IMO8973019 WDC3701  1025       under way using engine  21.30\n",
       "5 SALLY         IMO8973019 WDC3701  1025       under way using engine  21.30\n",
       "6 SALLY         IMO8973019 WDC3701  1025       under way using engine  21.30\n",
       "  Width Draft Cargo Day wDay region      \n",
       "1  4.50 NA    50    1   1    Port_of_Wilm\n",
       "2 32.26 10    70    1   1    Port_of_Wilm\n",
       "3  9.10 NA    52    1   1    Port_of_Wilm\n",
       "4  9.10 NA    52    1   1    Port_of_Wilm\n",
       "5  9.10 NA    52    1   1    Port_of_Wilm\n",
       "6  9.10 NA    52    1   1    Port_of_Wilm"
      ]
     },
     "metadata": {},
     "output_type": "display_data"
    },
    {
     "name": "stdout",
     "output_type": "stream",
     "text": [
      "'data.frame':\t1286083 obs. of  20 variables:\n",
      " $ X           : int  46 50 69 120 123 134 140 187 188 191 ...\n",
      " $ MMSI        : Factor w/ 418 levels \"211691000\",\"212658000\",..: 199 136 183 184 184 184 184 198 136 198 ...\n",
      " $ BaseDateTime: Factor w/ 1010562 levels \"2017-01-01 00:00:00\",..: 3 16 6 19 40 4 59 5 4 20 ...\n",
      " $ LAT         : num  38.9 39 39.7 39.7 39.7 ...\n",
      " $ LON         : num  -75.3 -75.1 -75.5 -75.5 -75.5 ...\n",
      " $ SOG         : num  0 14.8 0 0 0 0 0 0 14.8 0 ...\n",
      " $ COG         : num  -151.4 156.2 -90 -95.4 -98.2 ...\n",
      " $ Heading     : int  511 158 511 511 511 511 511 511 158 511 ...\n",
      " $ VesselName  : Factor w/ 401 levels \"\",\"54 MARINE 1\",..: 56 262 227 338 338 338 338 47 262 47 ...\n",
      " $ IMO         : Factor w/ 342 levels \"\",\"IMO6709725\",..: 1 184 73 72 72 72 72 1 184 1 ...\n",
      " $ CallSign    : Factor w/ 394 levels \"\",\"2CWA7\",\"3EDG6\",..: 388 6 274 275 275 275 275 385 6 385 ...\n",
      " $ VesselType  : Factor w/ 20 levels \"0\",\"50\",\"52\",..: 14 10 20 20 20 20 20 14 10 14 ...\n",
      " $ Status      : Factor w/ 12 levels \"\",\"aground\",\"at anchor\",..: 12 12 12 12 12 12 12 12 12 12 ...\n",
      " $ Length      : num  14.7 200 21.3 21.3 21.3 ...\n",
      " $ Width       : num  4.5 32.3 9.1 9.1 9.1 ...\n",
      " $ Draft       : num  NA 10 NA NA NA NA NA NA 10 NA ...\n",
      " $ Cargo       : int  50 70 52 52 52 52 52 50 70 50 ...\n",
      " $ Day         : int  1 1 1 1 1 1 1 1 1 1 ...\n",
      " $ wDay        : int  1 1 1 1 1 1 1 1 1 1 ...\n",
      " $ region      : Factor w/ 1 level \"Port_of_Wilm\": 1 1 1 1 1 1 1 1 1 1 ...\n"
     ]
    },
    {
     "data": {
      "text/plain": [
       "       X                   MMSI                      BaseDateTime    \n",
       " Min.   :      46   367012640:  37664   2017-01-11 00:00:03:     11  \n",
       " 1st Qu.: 6293038   367699890:  37022   2017-01-27 06:57:11:     10  \n",
       " Median :12645066   367518270:  36998   2017-01-05 00:00:05:      9  \n",
       " Mean   :12478710   367141190:  36848   2017-01-22 00:00:01:      9  \n",
       " 3rd Qu.:18815056   367068110:  35979   2017-01-24 19:16:31:      9  \n",
       " Max.   :24226727   367100370:  35681   2017-01-19 12:50:02:      8  \n",
       "                    (Other)  :1065891   (Other)            :1286027  \n",
       "      LAT             LON              SOG              COG         \n",
       " Min.   :38.72   Min.   :-75.78   Min.   : 0.000   Min.   :-204.80  \n",
       " 1st Qu.:38.94   1st Qu.:-75.52   1st Qu.: 0.000   1st Qu.:-129.60  \n",
       " Median :39.51   Median :-75.43   Median : 0.100   Median : -59.60  \n",
       " Mean   :39.34   Mean   :-75.37   Mean   : 3.409   Mean   : -15.01  \n",
       " 3rd Qu.:39.72   3rd Qu.:-75.17   3rd Qu.: 7.200   3rd Qu.: 129.90  \n",
       " Max.   :39.81   Max.   :-75.04   Max.   :49.100   Max.   : 204.70  \n",
       "                                                                    \n",
       "    Heading                     VesselName              IMO        \n",
       " Min.   :  0.0   LINDSEY             :  37664             :463784  \n",
       " 1st Qu.:196.0   J P VIRDEN          :  37022   IMO8973021: 37664  \n",
       " Median :511.0   WILMINGTON FIREBOAT7:  36998   IMO8973007: 33235  \n",
       " Mean   :358.2   PILOTPHILADELPHIA   :  36848   IMO8973019: 30001  \n",
       " 3rd Qu.:511.0   BIG STONE EXPRESS   :  35979   IMO9373723: 23181  \n",
       " Max.   :511.0   LEWES               :  35681   IMO9436549: 18105  \n",
       "                 (Other)             :1065891   (Other)   :680113  \n",
       "    CallSign         VesselType                            Status      \n",
       "        :  38175   1025   :506885   under way using engine    :842200  \n",
       " WDC3699:  37664   1004   :167183   at anchor                 :134843  \n",
       " WDI4560:  37022   1012   :156457   undefined                 :113904  \n",
       " WDG2694:  36998   1024   :150331   moored                    :112803  \n",
       " WDD4171:  36848   50     : 72529                             : 47791  \n",
       " WCX9178:  35979   (Other):142543   restricted maneuverability: 14598  \n",
       " (Other):1063397   NA's   : 90155   (Other)                   : 19944  \n",
       "     Length            Width            Draft            Cargo       \n",
       " Min.   :   0.00   Min.   : 0.00    Min.   :-10.0    Min.   : 0.0    \n",
       " 1st Qu.:  19.80   1st Qu.: 7.00    1st Qu.:  4.0    1st Qu.:50.0    \n",
       " Median :  29.72   Median : 9.75    Median :  6.5    Median :52.0    \n",
       " Mean   :  77.62   Mean   :15.35    Mean   :  8.4    Mean   :58.3    \n",
       " 3rd Qu.: 113.28   3rd Qu.:21.75    3rd Qu.: 12.0    3rd Qu.:72.0    \n",
       " Max.   :5636.00   Max.   :50.04    Max.   : 17.2    Max.   :99.0    \n",
       " NA's   :42424     NA's   :188292   NA's   :637327   NA's   :501513  \n",
       "      Day             wDay                region       \n",
       " Min.   : 1.00   Min.   :1.000   Port_of_Wilm:1286083  \n",
       " 1st Qu.: 8.00   1st Qu.:2.000                         \n",
       " Median :16.00   Median :4.000                         \n",
       " Mean   :16.26   Mean   :3.789                         \n",
       " 3rd Qu.:24.00   3rd Qu.:5.000                         \n",
       " Max.   :31.00   Max.   :7.000                         \n",
       "                                                       "
      ]
     },
     "metadata": {},
     "output_type": "display_data"
    }
   ],
   "source": [
    "head(Delaware_Riv_Ais_full)\n",
    "str(Delaware_Riv_Ais_full)\n",
    "summary(Delaware_Riv_Ais_full)"
   ]
  },
  {
   "cell_type": "markdown",
   "metadata": {},
   "source": [
    "Change file data types as appropriate"
   ]
  },
  {
   "cell_type": "code",
   "execution_count": 90,
   "metadata": {},
   "outputs": [
    {
     "name": "stdout",
     "output_type": "stream",
     "text": [
      "'data.frame':\t1286083 obs. of  20 variables:\n",
      " $ X           : int  46 50 69 120 123 134 140 187 188 191 ...\n",
      " $ MMSI        : Factor w/ 418 levels \"211691000\",\"212658000\",..: 199 136 183 184 184 184 184 198 136 198 ...\n",
      " $ BaseDateTime: Factor w/ 1010562 levels \"2017-01-01 00:00:00\",..: 3 16 6 19 40 4 59 5 4 20 ...\n",
      " $ LAT         : num  38.9 39 39.7 39.7 39.7 ...\n",
      " $ LON         : num  -75.3 -75.1 -75.5 -75.5 -75.5 ...\n",
      " $ SOG         : num  0 14.8 0 0 0 0 0 0 14.8 0 ...\n",
      " $ COG         : num  -151.4 156.2 -90 -95.4 -98.2 ...\n",
      " $ Heading     : int  511 158 511 511 511 511 511 511 158 511 ...\n",
      " $ VesselName  : Factor w/ 401 levels \"\",\"54 MARINE 1\",..: 56 262 227 338 338 338 338 47 262 47 ...\n",
      " $ IMO         : Factor w/ 342 levels \"\",\"IMO6709725\",..: 1 184 73 72 72 72 72 1 184 1 ...\n",
      " $ CallSign    : Factor w/ 394 levels \"\",\"2CWA7\",\"3EDG6\",..: 388 6 274 275 275 275 275 385 6 385 ...\n",
      " $ VesselType  : Factor w/ 20 levels \"0\",\"1001\",\"1004\",..: 7 3 13 13 13 13 13 7 3 7 ...\n",
      " $ Status      : Factor w/ 12 levels \"\",\"aground\",\"at anchor\",..: 12 12 12 12 12 12 12 12 12 12 ...\n",
      " $ Length      : num  14.7 200 21.3 21.3 21.3 ...\n",
      " $ Width       : num  4.5 32.3 9.1 9.1 9.1 ...\n",
      " $ Draft       : num  NA 10 NA NA NA NA NA NA 10 NA ...\n",
      " $ Cargo       : int  50 70 52 52 52 52 52 50 70 50 ...\n",
      " $ Day         : int  1 1 1 1 1 1 1 1 1 1 ...\n",
      " $ wDay        : int  1 1 1 1 1 1 1 1 1 1 ...\n",
      " $ region      : Factor w/ 1 level \"Port_of_Wilm\": 1 1 1 1 1 1 1 1 1 1 ...\n"
     ]
    },
    {
     "data": {
      "text/html": [
       "<ol class=list-inline>\n",
       "\t<li>'0'</li>\n",
       "\t<li>'1001'</li>\n",
       "\t<li>'1004'</li>\n",
       "\t<li>'1005'</li>\n",
       "\t<li>'1010'</li>\n",
       "\t<li>'1011'</li>\n",
       "\t<li>'1012'</li>\n",
       "\t<li>'1016'</li>\n",
       "\t<li>'1018'</li>\n",
       "\t<li>'1019'</li>\n",
       "\t<li>'1020'</li>\n",
       "\t<li>'1024'</li>\n",
       "\t<li>'1025'</li>\n",
       "\t<li>'50'</li>\n",
       "\t<li>'52'</li>\n",
       "\t<li>'70'</li>\n",
       "\t<li>'71'</li>\n",
       "\t<li>'79'</li>\n",
       "\t<li>'80'</li>\n",
       "\t<li>'90'</li>\n",
       "</ol>\n"
      ],
      "text/latex": [
       "\\begin{enumerate*}\n",
       "\\item '0'\n",
       "\\item '1001'\n",
       "\\item '1004'\n",
       "\\item '1005'\n",
       "\\item '1010'\n",
       "\\item '1011'\n",
       "\\item '1012'\n",
       "\\item '1016'\n",
       "\\item '1018'\n",
       "\\item '1019'\n",
       "\\item '1020'\n",
       "\\item '1024'\n",
       "\\item '1025'\n",
       "\\item '50'\n",
       "\\item '52'\n",
       "\\item '70'\n",
       "\\item '71'\n",
       "\\item '79'\n",
       "\\item '80'\n",
       "\\item '90'\n",
       "\\end{enumerate*}\n"
      ],
      "text/markdown": [
       "1. '0'\n",
       "2. '1001'\n",
       "3. '1004'\n",
       "4. '1005'\n",
       "5. '1010'\n",
       "6. '1011'\n",
       "7. '1012'\n",
       "8. '1016'\n",
       "9. '1018'\n",
       "10. '1019'\n",
       "11. '1020'\n",
       "12. '1024'\n",
       "13. '1025'\n",
       "14. '50'\n",
       "15. '52'\n",
       "16. '70'\n",
       "17. '71'\n",
       "18. '79'\n",
       "19. '80'\n",
       "20. '90'\n",
       "\n",
       "\n"
      ],
      "text/plain": [
       " [1] \"0\"    \"1001\" \"1004\" \"1005\" \"1010\" \"1011\" \"1012\" \"1016\" \"1018\" \"1019\"\n",
       "[11] \"1020\" \"1024\" \"1025\" \"50\"   \"52\"   \"70\"   \"71\"   \"79\"   \"80\"   \"90\"  "
      ]
     },
     "metadata": {},
     "output_type": "display_data"
    }
   ],
   "source": [
    "Delaware_Riv_Ais_full$VesselType <- as.factor(Delaware_Riv_Ais_full$VesselType)\n",
    "str(Delaware_Riv_Ais_full)\n",
    "levels(Delaware_Riv_Ais_full$VesselType)"
   ]
  },
  {
   "cell_type": "markdown",
   "metadata": {},
   "source": [
    "Read CSV of vessel type codes"
   ]
  },
  {
   "cell_type": "code",
   "execution_count": 91,
   "metadata": {},
   "outputs": [
    {
     "name": "stdout",
     "output_type": "stream",
     "text": [
      "'data.frame':\t25 obs. of  3 variables:\n",
      " $ Vessel.Group       : Factor w/ 8 levels \"Cargo\",\"Fishing\",..: 2 2 1 1 4 4 4 4 4 4 ...\n",
      " $ Vessel.Code        : Factor w/ 25 levels \"1001\",\"1002\",..: 1 2 3 4 5 6 7 8 9 10 ...\n",
      " $ AVIS.Vessel.Service: Factor w/ 24 levels \" Commercial Fishing Vessel\",..: 1 2 3 4 5 6 7 8 8 9 ...\n"
     ]
    },
    {
     "data": {
      "text/html": [
       "<table>\n",
       "<caption>A data.frame: 25 × 3</caption>\n",
       "<thead>\n",
       "\t<tr><th scope=col>Vessel.Group</th><th scope=col>Vessel.Code</th><th scope=col>AVIS.Vessel.Service</th></tr>\n",
       "\t<tr><th scope=col>&lt;fct&gt;</th><th scope=col>&lt;fct&gt;</th><th scope=col>&lt;fct&gt;</th></tr>\n",
       "</thead>\n",
       "<tbody>\n",
       "\t<tr><td>Fishing               </td><td>1001</td><td> Commercial Fishing Vessel    </td></tr>\n",
       "\t<tr><td>Fishing               </td><td>1002</td><td> Fish Processing Vessel       </td></tr>\n",
       "\t<tr><td>Cargo                 </td><td>1003</td><td> Freight Barge                </td></tr>\n",
       "\t<tr><td>Cargo                 </td><td>1004</td><td> Freight Ship                 </td></tr>\n",
       "\t<tr><td>Other                 </td><td>1005</td><td> Industrial Vessel            </td></tr>\n",
       "\t<tr><td>Other                 </td><td>1006</td><td> Miscellaneous Vessel         </td></tr>\n",
       "\t<tr><td>Other                 </td><td>1007</td><td> Mobile Offshore Drilling Unit</td></tr>\n",
       "\t<tr><td>Other                 </td><td>1008</td><td> Non - Vessel                 </td></tr>\n",
       "\t<tr><td>Other                 </td><td>1009</td><td> Non - Vessel                 </td></tr>\n",
       "\t<tr><td>Other                 </td><td>1010</td><td> Offshore Supply Vessel       </td></tr>\n",
       "\t<tr><td>Other                 </td><td>1011</td><td> Oil Recovery                 </td></tr>\n",
       "\t<tr><td>Passenger             </td><td>1012</td><td> Passenger (Inspected)        </td></tr>\n",
       "\t<tr><td>Passenger             </td><td>1013</td><td> Passenger (Uninspected)      </td></tr>\n",
       "\t<tr><td>Passenger             </td><td>1014</td><td> Passenger Barge (Inspected)  </td></tr>\n",
       "\t<tr><td>Passenger             </td><td>1015</td><td> Passenger Barge (Uninspected)</td></tr>\n",
       "\t<tr><td>Cargo                 </td><td>1016</td><td> Public Freight               </td></tr>\n",
       "\t<tr><td>Tanker                </td><td>1017</td><td> Public Tankship/Barge        </td></tr>\n",
       "\t<tr><td>Other                 </td><td>1018</td><td> Public Vessel, Unclassified  </td></tr>\n",
       "\t<tr><td>Pleasure Craft/Sailing</td><td>1019</td><td> Recreational                 </td></tr>\n",
       "\t<tr><td>Other                 </td><td>1020</td><td> Research Vessel              </td></tr>\n",
       "\t<tr><td>Military              </td><td>1021</td><td> SAR Aircraft                 </td></tr>\n",
       "\t<tr><td>Other                 </td><td>1022</td><td> School Ship                  </td></tr>\n",
       "\t<tr><td>Tug Tow               </td><td>1023</td><td> Tank Barge                   </td></tr>\n",
       "\t<tr><td>Tanker                </td><td>1024</td><td> Tank Ship                    </td></tr>\n",
       "\t<tr><td>Tug Tow               </td><td>1025</td><td> Towing Vessel                </td></tr>\n",
       "</tbody>\n",
       "</table>\n"
      ],
      "text/latex": [
       "A data.frame: 25 × 3\n",
       "\\begin{tabular}{r|lll}\n",
       " Vessel.Group & Vessel.Code & AVIS.Vessel.Service\\\\\n",
       " <fct> & <fct> & <fct>\\\\\n",
       "\\hline\n",
       "\t Fishing                & 1001 &  Commercial Fishing Vessel    \\\\\n",
       "\t Fishing                & 1002 &  Fish Processing Vessel       \\\\\n",
       "\t Cargo                  & 1003 &  Freight Barge                \\\\\n",
       "\t Cargo                  & 1004 &  Freight Ship                 \\\\\n",
       "\t Other                  & 1005 &  Industrial Vessel            \\\\\n",
       "\t Other                  & 1006 &  Miscellaneous Vessel         \\\\\n",
       "\t Other                  & 1007 &  Mobile Offshore Drilling Unit\\\\\n",
       "\t Other                  & 1008 &  Non - Vessel                 \\\\\n",
       "\t Other                  & 1009 &  Non - Vessel                 \\\\\n",
       "\t Other                  & 1010 &  Offshore Supply Vessel       \\\\\n",
       "\t Other                  & 1011 &  Oil Recovery                 \\\\\n",
       "\t Passenger              & 1012 &  Passenger (Inspected)        \\\\\n",
       "\t Passenger              & 1013 &  Passenger (Uninspected)      \\\\\n",
       "\t Passenger              & 1014 &  Passenger Barge (Inspected)  \\\\\n",
       "\t Passenger              & 1015 &  Passenger Barge (Uninspected)\\\\\n",
       "\t Cargo                  & 1016 &  Public Freight               \\\\\n",
       "\t Tanker                 & 1017 &  Public Tankship/Barge        \\\\\n",
       "\t Other                  & 1018 &  Public Vessel, Unclassified  \\\\\n",
       "\t Pleasure Craft/Sailing & 1019 &  Recreational                 \\\\\n",
       "\t Other                  & 1020 &  Research Vessel              \\\\\n",
       "\t Military               & 1021 &  SAR Aircraft                 \\\\\n",
       "\t Other                  & 1022 &  School Ship                  \\\\\n",
       "\t Tug Tow                & 1023 &  Tank Barge                   \\\\\n",
       "\t Tanker                 & 1024 &  Tank Ship                    \\\\\n",
       "\t Tug Tow                & 1025 &  Towing Vessel                \\\\\n",
       "\\end{tabular}\n"
      ],
      "text/markdown": [
       "\n",
       "A data.frame: 25 × 3\n",
       "\n",
       "| Vessel.Group &lt;fct&gt; | Vessel.Code &lt;fct&gt; | AVIS.Vessel.Service &lt;fct&gt; |\n",
       "|---|---|---|\n",
       "| Fishing                | 1001 |  Commercial Fishing Vessel     |\n",
       "| Fishing                | 1002 |  Fish Processing Vessel        |\n",
       "| Cargo                  | 1003 |  Freight Barge                 |\n",
       "| Cargo                  | 1004 |  Freight Ship                  |\n",
       "| Other                  | 1005 |  Industrial Vessel             |\n",
       "| Other                  | 1006 |  Miscellaneous Vessel          |\n",
       "| Other                  | 1007 |  Mobile Offshore Drilling Unit |\n",
       "| Other                  | 1008 |  Non - Vessel                  |\n",
       "| Other                  | 1009 |  Non - Vessel                  |\n",
       "| Other                  | 1010 |  Offshore Supply Vessel        |\n",
       "| Other                  | 1011 |  Oil Recovery                  |\n",
       "| Passenger              | 1012 |  Passenger (Inspected)         |\n",
       "| Passenger              | 1013 |  Passenger (Uninspected)       |\n",
       "| Passenger              | 1014 |  Passenger Barge (Inspected)   |\n",
       "| Passenger              | 1015 |  Passenger Barge (Uninspected) |\n",
       "| Cargo                  | 1016 |  Public Freight                |\n",
       "| Tanker                 | 1017 |  Public Tankship/Barge         |\n",
       "| Other                  | 1018 |  Public Vessel, Unclassified   |\n",
       "| Pleasure Craft/Sailing | 1019 |  Recreational                  |\n",
       "| Other                  | 1020 |  Research Vessel               |\n",
       "| Military               | 1021 |  SAR Aircraft                  |\n",
       "| Other                  | 1022 |  School Ship                   |\n",
       "| Tug Tow                | 1023 |  Tank Barge                    |\n",
       "| Tanker                 | 1024 |  Tank Ship                     |\n",
       "| Tug Tow                | 1025 |  Towing Vessel                 |\n",
       "\n"
      ],
      "text/plain": [
       "   Vessel.Group           Vessel.Code AVIS.Vessel.Service           \n",
       "1  Fishing                1001         Commercial Fishing Vessel    \n",
       "2  Fishing                1002         Fish Processing Vessel       \n",
       "3  Cargo                  1003         Freight Barge                \n",
       "4  Cargo                  1004         Freight Ship                 \n",
       "5  Other                  1005         Industrial Vessel            \n",
       "6  Other                  1006         Miscellaneous Vessel         \n",
       "7  Other                  1007         Mobile Offshore Drilling Unit\n",
       "8  Other                  1008         Non - Vessel                 \n",
       "9  Other                  1009         Non - Vessel                 \n",
       "10 Other                  1010         Offshore Supply Vessel       \n",
       "11 Other                  1011         Oil Recovery                 \n",
       "12 Passenger              1012         Passenger (Inspected)        \n",
       "13 Passenger              1013         Passenger (Uninspected)      \n",
       "14 Passenger              1014         Passenger Barge (Inspected)  \n",
       "15 Passenger              1015         Passenger Barge (Uninspected)\n",
       "16 Cargo                  1016         Public Freight               \n",
       "17 Tanker                 1017         Public Tankship/Barge        \n",
       "18 Other                  1018         Public Vessel, Unclassified  \n",
       "19 Pleasure Craft/Sailing 1019         Recreational                 \n",
       "20 Other                  1020         Research Vessel              \n",
       "21 Military               1021         SAR Aircraft                 \n",
       "22 Other                  1022         School Ship                  \n",
       "23 Tug Tow                1023         Tank Barge                   \n",
       "24 Tanker                 1024         Tank Ship                    \n",
       "25 Tug Tow                1025         Towing Vessel                "
      ]
     },
     "metadata": {},
     "output_type": "display_data"
    }
   ],
   "source": [
    "VesselTypeCodes <- read.csv(\"VesselTypeCodes.csv\")\n",
    "VesselTypeCodes$Vessel.Code  <- as.factor(VesselTypeCodes$Vessel.Code)\n",
    "str(VesselTypeCodes)\n",
    "VesselTypeCodes"
   ]
  },
  {
   "cell_type": "markdown",
   "metadata": {},
   "source": [
    "The code below joins the Delaware vessel dataset and the Vessel type codes dataset, in order to name the vessel types. *There was an issue with joining where some records were lost, though. Need to figure out why.*"
   ]
  },
  {
   "cell_type": "code",
   "execution_count": 97,
   "metadata": {},
   "outputs": [
    {
     "name": "stderr",
     "output_type": "stream",
     "text": [
      "Warning message:\n",
      "\"Column `VesselType`/`Vessel.Code` joining factors with different levels, coercing to character vector\""
     ]
    }
   ],
   "source": [
    "Delaware_Riv_Ais_full_joined  <- inner_join(Delaware_Riv_Ais_full, VesselTypeCodes, by =c(\"VesselType\" = \"Vessel.Code\"))\n"
   ]
  },
  {
   "cell_type": "markdown",
   "metadata": {},
   "source": [
    "# Visualizations and EDA"
   ]
  },
  {
   "cell_type": "code",
   "execution_count": 27,
   "metadata": {},
   "outputs": [
    {
     "data": {
      "image/png": "[encoded data removed]",
      "text/plain": [
       "plot without title"
      ]
     },
     "metadata": {},
     "output_type": "display_data"
    }
   ],
   "source": [
    "ggplot(Delaware_Riv_Ais_full, aes(region, SOG))+\n",
    "geom_boxplot(aes(fill = region))+\n",
    "ggtitle(\"January 2017 Speed-Over-Ground\")+\n",
    "theme_minimal()\n"
   ]
  },
  {
   "cell_type": "code",
   "execution_count": 29,
   "metadata": {},
   "outputs": [
    {
     "data": {
      "image/png": "[encoded data removed]",
      "text/plain": [
       "plot without title"
      ]
     },
     "metadata": {},
     "output_type": "display_data"
    }
   ],
   "source": [
    "ggplot(data=subset(Delaware_Riv_Ais_full,SOG != 0), aes(region, SOG))+\n",
    "geom_boxplot(aes(fill = region))+\n",
    "ggtitle(\"January 2017 Speed-Over-Ground\")+\n",
    "theme_minimal()"
   ]
  },
  {
   "cell_type": "markdown",
   "metadata": {},
   "source": [
    "Now we will look at the distribution of ships by ship type in the dataset"
   ]
  },
  {
   "cell_type": "code",
   "execution_count": 121,
   "metadata": {},
   "outputs": [
    {
     "data": {
      "text/html": [
       "<table>\n",
       "<caption>A tibble: 12 × 2</caption>\n",
       "<thead>\n",
       "\t<tr><th scope=col>fct_explicit_na(AVIS.Vessel.Service)</th><th scope=col>n</th></tr>\n",
       "\t<tr><th scope=col>&lt;fct&gt;</th><th scope=col>&lt;int&gt;</th></tr>\n",
       "</thead>\n",
       "<tbody>\n",
       "\t<tr><td> Commercial Fishing Vessel  </td><td>  2592</td></tr>\n",
       "\t<tr><td> Freight Ship               </td><td>167183</td></tr>\n",
       "\t<tr><td> Industrial Vessel          </td><td> 30267</td></tr>\n",
       "\t<tr><td> Offshore Supply Vessel     </td><td>   434</td></tr>\n",
       "\t<tr><td> Oil Recovery               </td><td> 13066</td></tr>\n",
       "\t<tr><td> Passenger (Inspected)      </td><td>156457</td></tr>\n",
       "\t<tr><td> Public Freight             </td><td>   675</td></tr>\n",
       "\t<tr><td> Public Vessel, Unclassified</td><td> 44534</td></tr>\n",
       "\t<tr><td> Recreational               </td><td> 17506</td></tr>\n",
       "\t<tr><td> Research Vessel            </td><td> 14478</td></tr>\n",
       "\t<tr><td> Tank Ship                  </td><td>150331</td></tr>\n",
       "\t<tr><td> Towing Vessel              </td><td>506885</td></tr>\n",
       "</tbody>\n",
       "</table>\n"
      ],
      "text/latex": [
       "A tibble: 12 × 2\n",
       "\\begin{tabular}{r|ll}\n",
       " fct\\_explicit\\_na(AVIS.Vessel.Service) & n\\\\\n",
       " <fct> & <int>\\\\\n",
       "\\hline\n",
       "\t  Commercial Fishing Vessel   &   2592\\\\\n",
       "\t  Freight Ship                & 167183\\\\\n",
       "\t  Industrial Vessel           &  30267\\\\\n",
       "\t  Offshore Supply Vessel      &    434\\\\\n",
       "\t  Oil Recovery                &  13066\\\\\n",
       "\t  Passenger (Inspected)       & 156457\\\\\n",
       "\t  Public Freight              &    675\\\\\n",
       "\t  Public Vessel, Unclassified &  44534\\\\\n",
       "\t  Recreational                &  17506\\\\\n",
       "\t  Research Vessel             &  14478\\\\\n",
       "\t  Tank Ship                   & 150331\\\\\n",
       "\t  Towing Vessel               & 506885\\\\\n",
       "\\end{tabular}\n"
      ],
      "text/markdown": [
       "\n",
       "A tibble: 12 × 2\n",
       "\n",
       "| fct_explicit_na(AVIS.Vessel.Service) &lt;fct&gt; | n &lt;int&gt; |\n",
       "|---|---|\n",
       "|  Commercial Fishing Vessel   |   2592 |\n",
       "|  Freight Ship                | 167183 |\n",
       "|  Industrial Vessel           |  30267 |\n",
       "|  Offshore Supply Vessel      |    434 |\n",
       "|  Oil Recovery                |  13066 |\n",
       "|  Passenger (Inspected)       | 156457 |\n",
       "|  Public Freight              |    675 |\n",
       "|  Public Vessel, Unclassified |  44534 |\n",
       "|  Recreational                |  17506 |\n",
       "|  Research Vessel             |  14478 |\n",
       "|  Tank Ship                   | 150331 |\n",
       "|  Towing Vessel               | 506885 |\n",
       "\n"
      ],
      "text/plain": [
       "   fct_explicit_na(AVIS.Vessel.Service) n     \n",
       "1   Commercial Fishing Vessel             2592\n",
       "2   Freight Ship                        167183\n",
       "3   Industrial Vessel                    30267\n",
       "4   Offshore Supply Vessel                 434\n",
       "5   Oil Recovery                         13066\n",
       "6   Passenger (Inspected)               156457\n",
       "7   Public Freight                         675\n",
       "8   Public Vessel, Unclassified          44534\n",
       "9   Recreational                         17506\n",
       "10  Research Vessel                      14478\n",
       "11  Tank Ship                           150331\n",
       "12  Towing Vessel                       506885"
      ]
     },
     "metadata": {},
     "output_type": "display_data"
    },
    {
     "data": {
      "image/png": "[encoded data removed]",
      "text/plain": [
       "plot without title"
      ]
     },
     "metadata": {},
     "output_type": "display_data"
    }
   ],
   "source": [
    "library(plyr)\n",
    "library(forcats)\n",
    "Delaware_Riv_Ais_full_joined %>% dplyr::group_by(fct_explicit_na(AVIS.Vessel.Service)) %>% dplyr::summarise(n = n())\n",
    "\n",
    "ggplot(Delaware_Riv_Ais_full_joined)+\n",
    "geom_bar(aes(x = fct_infreq(AVIS.Vessel.Service)))+\n",
    "ggtitle(\"January 2017 Counts by Ship Type\")+\n",
    "theme_minimal()+\n",
    "theme(axis.text.x = element_text(angle = 90))+\n",
    "xlab(\"Vessel Type\")"
   ]
  },
  {
   "cell_type": "markdown",
   "metadata": {},
   "source": [
    "It looks like the vast majority of records are Towing Vessels, followed by freight ships, passenger ships, and tank ships. "
   ]
  },
  {
   "cell_type": "markdown",
   "metadata": {},
   "source": [
    "Now I wanted to look at the distribution of individual ship records, and how many counts the most active ships make."
   ]
  },
  {
   "cell_type": "code",
   "execution_count": 129,
   "metadata": {},
   "outputs": [
    {
     "data": {
      "text/html": [
       "<table>\n",
       "<caption>A tibble: 20 × 2</caption>\n",
       "<thead>\n",
       "\t<tr><th scope=col>fct_explicit_na(MMSI)</th><th scope=col>count</th></tr>\n",
       "\t<tr><th scope=col>&lt;fct&gt;</th><th scope=col>&lt;int&gt;</th></tr>\n",
       "</thead>\n",
       "<tbody>\n",
       "\t<tr><td>367012640</td><td>37664</td></tr>\n",
       "\t<tr><td>367699890</td><td>37022</td></tr>\n",
       "\t<tr><td>367518270</td><td>36998</td></tr>\n",
       "\t<tr><td>367141190</td><td>36848</td></tr>\n",
       "\t<tr><td>367068110</td><td>35979</td></tr>\n",
       "\t<tr><td>367100370</td><td>35681</td></tr>\n",
       "\t<tr><td>367012670</td><td>33235</td></tr>\n",
       "\t<tr><td>367090620</td><td>32604</td></tr>\n",
       "\t<tr><td>367373420</td><td>31061</td></tr>\n",
       "\t<tr><td>367012660</td><td>30001</td></tr>\n",
       "\t<tr><td>366980160</td><td>27511</td></tr>\n",
       "\t<tr><td>367120230</td><td>23181</td></tr>\n",
       "\t<tr><td>366899270</td><td>18308</td></tr>\n",
       "\t<tr><td>367090580</td><td>18245</td></tr>\n",
       "\t<tr><td>338447000</td><td>18105</td></tr>\n",
       "\t<tr><td>366902260</td><td>16601</td></tr>\n",
       "\t<tr><td>366966210</td><td>16044</td></tr>\n",
       "\t<tr><td>369235000</td><td>15660</td></tr>\n",
       "\t<tr><td>367419080</td><td>14626</td></tr>\n",
       "\t<tr><td>366995040</td><td>14412</td></tr>\n",
       "</tbody>\n",
       "</table>\n"
      ],
      "text/latex": [
       "A tibble: 20 × 2\n",
       "\\begin{tabular}{r|ll}\n",
       " fct\\_explicit\\_na(MMSI) & count\\\\\n",
       " <fct> & <int>\\\\\n",
       "\\hline\n",
       "\t 367012640 & 37664\\\\\n",
       "\t 367699890 & 37022\\\\\n",
       "\t 367518270 & 36998\\\\\n",
       "\t 367141190 & 36848\\\\\n",
       "\t 367068110 & 35979\\\\\n",
       "\t 367100370 & 35681\\\\\n",
       "\t 367012670 & 33235\\\\\n",
       "\t 367090620 & 32604\\\\\n",
       "\t 367373420 & 31061\\\\\n",
       "\t 367012660 & 30001\\\\\n",
       "\t 366980160 & 27511\\\\\n",
       "\t 367120230 & 23181\\\\\n",
       "\t 366899270 & 18308\\\\\n",
       "\t 367090580 & 18245\\\\\n",
       "\t 338447000 & 18105\\\\\n",
       "\t 366902260 & 16601\\\\\n",
       "\t 366966210 & 16044\\\\\n",
       "\t 369235000 & 15660\\\\\n",
       "\t 367419080 & 14626\\\\\n",
       "\t 366995040 & 14412\\\\\n",
       "\\end{tabular}\n"
      ],
      "text/markdown": [
       "\n",
       "A tibble: 20 × 2\n",
       "\n",
       "| fct_explicit_na(MMSI) &lt;fct&gt; | count &lt;int&gt; |\n",
       "|---|---|\n",
       "| 367012640 | 37664 |\n",
       "| 367699890 | 37022 |\n",
       "| 367518270 | 36998 |\n",
       "| 367141190 | 36848 |\n",
       "| 367068110 | 35979 |\n",
       "| 367100370 | 35681 |\n",
       "| 367012670 | 33235 |\n",
       "| 367090620 | 32604 |\n",
       "| 367373420 | 31061 |\n",
       "| 367012660 | 30001 |\n",
       "| 366980160 | 27511 |\n",
       "| 367120230 | 23181 |\n",
       "| 366899270 | 18308 |\n",
       "| 367090580 | 18245 |\n",
       "| 338447000 | 18105 |\n",
       "| 366902260 | 16601 |\n",
       "| 366966210 | 16044 |\n",
       "| 369235000 | 15660 |\n",
       "| 367419080 | 14626 |\n",
       "| 366995040 | 14412 |\n",
       "\n"
      ],
      "text/plain": [
       "   fct_explicit_na(MMSI) count\n",
       "1  367012640             37664\n",
       "2  367699890             37022\n",
       "3  367518270             36998\n",
       "4  367141190             36848\n",
       "5  367068110             35979\n",
       "6  367100370             35681\n",
       "7  367012670             33235\n",
       "8  367090620             32604\n",
       "9  367373420             31061\n",
       "10 367012660             30001\n",
       "11 366980160             27511\n",
       "12 367120230             23181\n",
       "13 366899270             18308\n",
       "14 367090580             18245\n",
       "15 338447000             18105\n",
       "16 366902260             16601\n",
       "17 366966210             16044\n",
       "18 369235000             15660\n",
       "19 367419080             14626\n",
       "20 366995040             14412"
      ]
     },
     "metadata": {},
     "output_type": "display_data"
    }
   ],
   "source": [
    "Delaware_Riv_Ais_full$MMSI  <- as.factor(Delaware_Riv_Ais_full$MMSI)\n",
    "Delaware_Riv_Ais_full %>% dplyr::group_by(fct_explicit_na(MMSI)) %>% dplyr::summarize(count=n()) %>% arrange(desc(count)) %>% head(20)"
   ]
  },
  {
   "cell_type": "markdown",
   "metadata": {},
   "source": [
    "This shows that the top 10 ships each account for over 30,000 records! This dataset has only 1,200,000 records, and 30,000 of them, or 2.5% of the records, are made up of only 10 ships' activities"
   ]
  },
  {
   "cell_type": "code",
   "execution_count": null,
   "metadata": {},
   "outputs": [],
   "source": []
  }
 ],
 "metadata": {
  "kernelspec": {
   "display_name": "R",
   "language": "R",
   "name": "ir"
  },
  "language_info": {
   "codemirror_mode": "r",
   "file_extension": ".r",
   "mimetype": "text/x-r-source",
   "name": "R",
   "pygments_lexer": "r",
   "version": "3.6.0"
  }
 },
 "nbformat": 4,
 "nbformat_minor": 2
}
